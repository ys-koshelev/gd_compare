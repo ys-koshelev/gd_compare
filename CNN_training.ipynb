{
 "cells": [
  {
   "cell_type": "code",
   "execution_count": 1,
   "metadata": {},
   "outputs": [
    {
     "name": "stderr",
     "output_type": "stream",
     "text": [
      "/Applications/anaconda3/lib/python3.6/site-packages/tqdm/autonotebook/__init__.py:14: TqdmExperimentalWarning: Using `tqdm.autonotebook.tqdm` in notebook mode. Use `tqdm.tqdm` instead to force console mode (e.g. in jupyter console)\n",
      "  \" (e.g. in jupyter console)\", TqdmExperimentalWarning)\n"
     ]
    },
    {
     "name": "stdout",
     "output_type": "stream",
     "text": [
      "CUDA Available:  False\n",
      "Using CPU\n"
     ]
    }
   ],
   "source": [
    "import torch\n",
    "from torch.cuda import set_device\n",
    "from train_functions import train, measure_scores, get_data_loaders, MnistResNet\n",
    "import copy\n",
    "import matplotlib.pyplot as plt\n",
    "import numpy as np\n",
    "%matplotlib inline\n",
    "\n",
    "gpu_id = 2;\n",
    "cuda_avail = torch.cuda.is_available();\n",
    "\n",
    "print(\"CUDA Available: \", cuda_avail);\n",
    "if cuda_avail:\n",
    "    print('Using gpu with id', gpu_id);\n",
    "    set_device(gpu_id);\n",
    "    device = torch.device(\"cuda:\" + str(gpu_id))\n",
    "else:\n",
    "    print('Using CPU');\n",
    "    device = torch.device(\"cpu\");"
   ]
  },
  {
   "cell_type": "code",
   "execution_count": 2,
   "metadata": {},
   "outputs": [],
   "source": [
    "# loading CNN\n",
    "model = MnistResNet();\n",
    "if cuda_avail:\n",
    "    model.cuda();\n",
    "model.train(True);\n",
    "optimizer = torch.optim.Adam(model.parameters(), amsgrad=True, lr=1e-3);"
   ]
  },
  {
   "cell_type": "code",
   "execution_count": 3,
   "metadata": {
    "scrolled": true
   },
   "outputs": [
    {
     "data": {
      "application/vnd.jupyter.widget-view+json": {
       "model_id": "46116fe8fc474e669182e10c417e63a2",
       "version_major": 2,
       "version_minor": 0
      },
      "text/plain": [
       "HBox(children=(IntProgress(value=0, description='Loss: ', max=500, style=ProgressStyle(description_width='init…"
      ]
     },
     "metadata": {},
     "output_type": "display_data"
    },
    {
     "name": "stdout",
     "output_type": "stream",
     "text": [
      "\n",
      "\t     precision: 0.9720\n",
      "\t        recall: 0.9695\n",
      "\t            F1: 0.9698\n",
      "\t      accuracy: 0.9699\n",
      "Epoch 1/50, training loss: -0.1710004359483719, validation loss: 1.486594557762146\n"
     ]
    },
    {
     "data": {
      "application/vnd.jupyter.widget-view+json": {
       "model_id": "ca510e0d69c64f579dbe68c83087f5a2",
       "version_major": 2,
       "version_minor": 0
      },
      "text/plain": [
       "HBox(children=(IntProgress(value=0, description='Loss: ', max=500, style=ProgressStyle(description_width='init…"
      ]
     },
     "metadata": {},
     "output_type": "display_data"
    },
    {
     "name": "stdout",
     "output_type": "stream",
     "text": [
      "\n",
      "\t     precision: 0.9669\n",
      "\t        recall: 0.9630\n",
      "\t            F1: 0.9633\n",
      "\t      accuracy: 0.9640\n",
      "Epoch 2/50, training loss: -0.20514436066150665, validation loss: 1.489180088043213\n"
     ]
    },
    {
     "data": {
      "application/vnd.jupyter.widget-view+json": {
       "model_id": "d5f10c951b6d4029ab83689c9f7bb811",
       "version_major": 2,
       "version_minor": 0
      },
      "text/plain": [
       "HBox(children=(IntProgress(value=0, description='Loss: ', max=500, style=ProgressStyle(description_width='init…"
      ]
     },
     "metadata": {},
     "output_type": "display_data"
    },
    {
     "name": "stdout",
     "output_type": "stream",
     "text": [
      "\n",
      "\t     precision: 0.9763\n",
      "\t        recall: 0.9750\n",
      "\t            F1: 0.9747\n",
      "\t      accuracy: 0.9754\n",
      "Epoch 3/50, training loss: -0.20589488744735718, validation loss: 1.4806550741195679\n"
     ]
    },
    {
     "data": {
      "application/vnd.jupyter.widget-view+json": {
       "model_id": "a609f8f165b54701a150e7b8b72c57a1",
       "version_major": 2,
       "version_minor": 0
      },
      "text/plain": [
       "HBox(children=(IntProgress(value=0, description='Loss: ', max=500, style=ProgressStyle(description_width='init…"
      ]
     },
     "metadata": {},
     "output_type": "display_data"
    },
    {
     "name": "stdout",
     "output_type": "stream",
     "text": [
      "\n",
      "\t     precision: 0.9820\n",
      "\t        recall: 0.9811\n",
      "\t            F1: 0.9811\n",
      "\t      accuracy: 0.9814\n",
      "Epoch 4/50, training loss: -0.2063383311033249, validation loss: 1.4752858877182007\n"
     ]
    },
    {
     "data": {
      "application/vnd.jupyter.widget-view+json": {
       "model_id": "8400f5aef4c449159b184f3cafa11d85",
       "version_major": 2,
       "version_minor": 0
      },
      "text/plain": [
       "HBox(children=(IntProgress(value=0, description='Loss: ', max=500, style=ProgressStyle(description_width='init…"
      ]
     },
     "metadata": {},
     "output_type": "display_data"
    },
    {
     "name": "stdout",
     "output_type": "stream",
     "text": [
      "\n",
      "\t     precision: 0.9840\n",
      "\t        recall: 0.9833\n",
      "\t            F1: 0.9833\n",
      "\t      accuracy: 0.9835\n",
      "Epoch 5/50, training loss: -0.20662939548492432, validation loss: 1.4741262197494507\n"
     ]
    },
    {
     "data": {
      "application/vnd.jupyter.widget-view+json": {
       "model_id": "919d1e9e25484d5199365f5306da89d6",
       "version_major": 2,
       "version_minor": 0
      },
      "text/plain": [
       "HBox(children=(IntProgress(value=0, description='Loss: ', max=500, style=ProgressStyle(description_width='init…"
      ]
     },
     "metadata": {},
     "output_type": "display_data"
    },
    {
     "name": "stdout",
     "output_type": "stream",
     "text": [
      "\n",
      "\t     precision: 0.9870\n",
      "\t        recall: 0.9862\n",
      "\t            F1: 0.9863\n",
      "\t      accuracy: 0.9864\n",
      "Epoch 6/50, training loss: -0.20673401653766632, validation loss: 1.471867561340332\n"
     ]
    },
    {
     "data": {
      "application/vnd.jupyter.widget-view+json": {
       "model_id": "d0dfe8347571414293fda5add08be507",
       "version_major": 2,
       "version_minor": 0
      },
      "text/plain": [
       "HBox(children=(IntProgress(value=0, description='Loss: ', max=500, style=ProgressStyle(description_width='init…"
      ]
     },
     "metadata": {},
     "output_type": "display_data"
    },
    {
     "name": "stdout",
     "output_type": "stream",
     "text": [
      "\n",
      "\t     precision: 0.9837\n",
      "\t        recall: 0.9829\n",
      "\t            F1: 0.9828\n",
      "\t      accuracy: 0.9833\n",
      "Epoch 7/50, training loss: -0.2069544792175293, validation loss: 1.4735292196273804\n"
     ]
    },
    {
     "data": {
      "application/vnd.jupyter.widget-view+json": {
       "model_id": "d179c6bc394f473c86f0277754888e27",
       "version_major": 2,
       "version_minor": 0
      },
      "text/plain": [
       "HBox(children=(IntProgress(value=0, description='Loss: ', max=500, style=ProgressStyle(description_width='init…"
      ]
     },
     "metadata": {},
     "output_type": "display_data"
    },
    {
     "name": "stdout",
     "output_type": "stream",
     "text": [
      "\n",
      "\t     precision: 0.9865\n",
      "\t        recall: 0.9862\n",
      "\t            F1: 0.9861\n",
      "\t      accuracy: 0.9861\n",
      "Epoch 8/50, training loss: -0.20716442167758942, validation loss: 1.47174870967865\n"
     ]
    },
    {
     "data": {
      "application/vnd.jupyter.widget-view+json": {
       "model_id": "e0a631df37ae447f91cf0954b86a6d11",
       "version_major": 2,
       "version_minor": 0
      },
      "text/plain": [
       "HBox(children=(IntProgress(value=0, description='Loss: ', max=500, style=ProgressStyle(description_width='init…"
      ]
     },
     "metadata": {},
     "output_type": "display_data"
    },
    {
     "name": "stdout",
     "output_type": "stream",
     "text": [
      "\n",
      "\t     precision: 0.9896\n",
      "\t        recall: 0.9890\n",
      "\t            F1: 0.9890\n",
      "\t      accuracy: 0.9893\n",
      "Epoch 9/50, training loss: -0.20722322165966034, validation loss: 1.4697788953781128\n"
     ]
    },
    {
     "data": {
      "application/vnd.jupyter.widget-view+json": {
       "model_id": "2ae13758c82a476ea9f9af713fcb6552",
       "version_major": 2,
       "version_minor": 0
      },
      "text/plain": [
       "HBox(children=(IntProgress(value=0, description='Loss: ', max=500, style=ProgressStyle(description_width='init…"
      ]
     },
     "metadata": {},
     "output_type": "display_data"
    },
    {
     "name": "stdout",
     "output_type": "stream",
     "text": [
      "\n",
      "\t     precision: 0.9858\n",
      "\t        recall: 0.9845\n",
      "\t            F1: 0.9847\n",
      "\t      accuracy: 0.9848\n",
      "Epoch 10/50, training loss: -0.20724649727344513, validation loss: 1.4737677574157715\n"
     ]
    },
    {
     "data": {
      "application/vnd.jupyter.widget-view+json": {
       "model_id": "fbc8a278b71b4af9902b5f1f47cf5612",
       "version_major": 2,
       "version_minor": 0
      },
      "text/plain": [
       "HBox(children=(IntProgress(value=0, description='Loss: ', max=500, style=ProgressStyle(description_width='init…"
      ]
     },
     "metadata": {},
     "output_type": "display_data"
    },
    {
     "name": "stdout",
     "output_type": "stream",
     "text": [
      "\n",
      "\t     precision: 0.9848\n",
      "\t        recall: 0.9840\n",
      "\t            F1: 0.9840\n",
      "\t      accuracy: 0.9842\n",
      "Epoch 11/50, training loss: -0.20721888542175293, validation loss: 1.4741381406784058\n"
     ]
    },
    {
     "data": {
      "application/vnd.jupyter.widget-view+json": {
       "model_id": "84f6bc0dcb4b484c81ecf4a39dad833e",
       "version_major": 2,
       "version_minor": 0
      },
      "text/plain": [
       "HBox(children=(IntProgress(value=0, description='Loss: ', max=500, style=ProgressStyle(description_width='init…"
      ]
     },
     "metadata": {},
     "output_type": "display_data"
    },
    {
     "name": "stdout",
     "output_type": "stream",
     "text": [
      "\n",
      "\t     precision: 0.9894\n",
      "\t        recall: 0.9889\n",
      "\t            F1: 0.9889\n",
      "\t      accuracy: 0.9892\n",
      "Epoch 12/50, training loss: -0.2073635756969452, validation loss: 1.4697905778884888\n"
     ]
    },
    {
     "data": {
      "application/vnd.jupyter.widget-view+json": {
       "model_id": "a93b85de4e1c4e99b43581b6e67589eb",
       "version_major": 2,
       "version_minor": 0
      },
      "text/plain": [
       "HBox(children=(IntProgress(value=0, description='Loss: ', max=500, style=ProgressStyle(description_width='init…"
      ]
     },
     "metadata": {},
     "output_type": "display_data"
    },
    {
     "name": "stdout",
     "output_type": "stream",
     "text": [
      "\n",
      "\t     precision: 0.9876\n",
      "\t        recall: 0.9867\n",
      "\t            F1: 0.9868\n",
      "\t      accuracy: 0.9870\n",
      "Epoch 13/50, training loss: -0.20746491849422455, validation loss: 1.4725288152694702\n"
     ]
    },
    {
     "data": {
      "application/vnd.jupyter.widget-view+json": {
       "model_id": "905b8cb1b69d476e811d6e0130a0956e",
       "version_major": 2,
       "version_minor": 0
      },
      "text/plain": [
       "HBox(children=(IntProgress(value=0, description='Loss: ', max=500, style=ProgressStyle(description_width='init…"
      ]
     },
     "metadata": {},
     "output_type": "display_data"
    },
    {
     "name": "stdout",
     "output_type": "stream",
     "text": [
      "\n",
      "\t     precision: 0.9894\n",
      "\t        recall: 0.9893\n",
      "\t            F1: 0.9891\n",
      "\t      accuracy: 0.9893\n",
      "Epoch 14/50, training loss: -0.2075517475605011, validation loss: 1.4698275327682495\n"
     ]
    },
    {
     "data": {
      "application/vnd.jupyter.widget-view+json": {
       "model_id": "4832fbd28d5d4c87979f6127502a581d",
       "version_major": 2,
       "version_minor": 0
      },
      "text/plain": [
       "HBox(children=(IntProgress(value=0, description='Loss: ', max=500, style=ProgressStyle(description_width='init…"
      ]
     },
     "metadata": {},
     "output_type": "display_data"
    },
    {
     "name": "stdout",
     "output_type": "stream",
     "text": [
      "\n",
      "\t     precision: 0.9857\n",
      "\t        recall: 0.9848\n",
      "\t            F1: 0.9848\n",
      "\t      accuracy: 0.9847\n",
      "Epoch 15/50, training loss: -0.20735862851142883, validation loss: 1.4722225666046143\n"
     ]
    },
    {
     "data": {
      "application/vnd.jupyter.widget-view+json": {
       "model_id": "bdcd57abcdbf4f1fb906b80f330722e6",
       "version_major": 2,
       "version_minor": 0
      },
      "text/plain": [
       "HBox(children=(IntProgress(value=0, description='Loss: ', max=500, style=ProgressStyle(description_width='init…"
      ]
     },
     "metadata": {},
     "output_type": "display_data"
    },
    {
     "name": "stdout",
     "output_type": "stream",
     "text": [
      "\n",
      "\t     precision: 0.9869\n",
      "\t        recall: 0.9866\n",
      "\t            F1: 0.9864\n",
      "\t      accuracy: 0.9866\n",
      "Epoch 16/50, training loss: -0.2073875218629837, validation loss: 1.4713729619979858\n"
     ]
    },
    {
     "data": {
      "application/vnd.jupyter.widget-view+json": {
       "model_id": "341793f039244dd690144b2f5e15ead7",
       "version_major": 2,
       "version_minor": 0
      },
      "text/plain": [
       "HBox(children=(IntProgress(value=0, description='Loss: ', max=500, style=ProgressStyle(description_width='init…"
      ]
     },
     "metadata": {},
     "output_type": "display_data"
    },
    {
     "name": "stdout",
     "output_type": "stream",
     "text": [
      "\n",
      "\t     precision: 0.9860\n",
      "\t        recall: 0.9847\n",
      "\t            F1: 0.9848\n",
      "\t      accuracy: 0.9852\n",
      "Epoch 17/50, training loss: -0.20755161345005035, validation loss: 1.4737368822097778\n"
     ]
    },
    {
     "data": {
      "application/vnd.jupyter.widget-view+json": {
       "model_id": "558824eb65434b808814308e975959b8",
       "version_major": 2,
       "version_minor": 0
      },
      "text/plain": [
       "HBox(children=(IntProgress(value=0, description='Loss: ', max=500, style=ProgressStyle(description_width='init…"
      ]
     },
     "metadata": {},
     "output_type": "display_data"
    },
    {
     "name": "stdout",
     "output_type": "stream",
     "text": [
      "\n",
      "\t     precision: 0.9863\n",
      "\t        recall: 0.9861\n",
      "\t            F1: 0.9858\n",
      "\t      accuracy: 0.9861\n",
      "Epoch 18/50, training loss: -0.20747973024845123, validation loss: 1.4711564779281616\n"
     ]
    },
    {
     "data": {
      "application/vnd.jupyter.widget-view+json": {
       "model_id": "4e5fa4d9b9014a4b96e79935ef44b8e2",
       "version_major": 2,
       "version_minor": 0
      },
      "text/plain": [
       "HBox(children=(IntProgress(value=0, description='Loss: ', max=500, style=ProgressStyle(description_width='init…"
      ]
     },
     "metadata": {},
     "output_type": "display_data"
    },
    {
     "name": "stdout",
     "output_type": "stream",
     "text": [
      "\n",
      "\t     precision: 0.9888\n",
      "\t        recall: 0.9884\n",
      "\t            F1: 0.9884\n",
      "\t      accuracy: 0.9887\n",
      "Epoch 19/50, training loss: -0.20766358077526093, validation loss: 1.47038733959198\n"
     ]
    },
    {
     "data": {
      "application/vnd.jupyter.widget-view+json": {
       "model_id": "17de454a6d94485aa84bdedbba466dc4",
       "version_major": 2,
       "version_minor": 0
      },
      "text/plain": [
       "HBox(children=(IntProgress(value=0, description='Loss: ', max=500, style=ProgressStyle(description_width='init…"
      ]
     },
     "metadata": {},
     "output_type": "display_data"
    },
    {
     "name": "stdout",
     "output_type": "stream",
     "text": [
      "\n",
      "\t     precision: 0.9874\n",
      "\t        recall: 0.9871\n",
      "\t            F1: 0.9869\n",
      "\t      accuracy: 0.9872\n",
      "Epoch 20/50, training loss: -0.20757348835468292, validation loss: 1.4721328020095825\n"
     ]
    },
    {
     "data": {
      "application/vnd.jupyter.widget-view+json": {
       "model_id": "a704d39c28f447e19f430dcd5ef94405",
       "version_major": 2,
       "version_minor": 0
      },
      "text/plain": [
       "HBox(children=(IntProgress(value=0, description='Loss: ', max=500, style=ProgressStyle(description_width='init…"
      ]
     },
     "metadata": {},
     "output_type": "display_data"
    },
    {
     "name": "stdout",
     "output_type": "stream",
     "text": [
      "\n",
      "\t     precision: 0.9871\n",
      "\t        recall: 0.9862\n",
      "\t            F1: 0.9863\n",
      "\t      accuracy: 0.9865\n",
      "Epoch 21/50, training loss: -0.20767749845981598, validation loss: 1.4722427129745483\n"
     ]
    },
    {
     "data": {
      "application/vnd.jupyter.widget-view+json": {
       "model_id": "f5e8d1454b4f47a38dec5eb283bdab35",
       "version_major": 2,
       "version_minor": 0
      },
      "text/plain": [
       "HBox(children=(IntProgress(value=0, description='Loss: ', max=500, style=ProgressStyle(description_width='init…"
      ]
     },
     "metadata": {},
     "output_type": "display_data"
    },
    {
     "name": "stdout",
     "output_type": "stream",
     "text": [
      "\n",
      "\t     precision: 0.9884\n",
      "\t        recall: 0.9878\n",
      "\t            F1: 0.9879\n",
      "\t      accuracy: 0.9879\n",
      "Epoch 22/50, training loss: -0.2076530158519745, validation loss: 1.4702867269515991\n"
     ]
    },
    {
     "data": {
      "application/vnd.jupyter.widget-view+json": {
       "model_id": "2ce0d533884c467caebae2a129fbc111",
       "version_major": 2,
       "version_minor": 0
      },
      "text/plain": [
       "HBox(children=(IntProgress(value=0, description='Loss: ', max=500, style=ProgressStyle(description_width='init…"
      ]
     },
     "metadata": {},
     "output_type": "display_data"
    },
    {
     "name": "stdout",
     "output_type": "stream",
     "text": [
      "\n",
      "\t     precision: 0.9876\n",
      "\t        recall: 0.9873\n",
      "\t            F1: 0.9871\n",
      "\t      accuracy: 0.9876\n",
      "Epoch 23/50, training loss: -0.20762914419174194, validation loss: 1.470638394355774\n"
     ]
    },
    {
     "data": {
      "application/vnd.jupyter.widget-view+json": {
       "model_id": "d0139ad001324bdc8bfd4570ca9a6bfb",
       "version_major": 2,
       "version_minor": 0
      },
      "text/plain": [
       "HBox(children=(IntProgress(value=0, description='Loss: ', max=500, style=ProgressStyle(description_width='init…"
      ]
     },
     "metadata": {},
     "output_type": "display_data"
    },
    {
     "name": "stdout",
     "output_type": "stream",
     "text": [
      "\n",
      "\t     precision: 0.9886\n",
      "\t        recall: 0.9879\n",
      "\t            F1: 0.9880\n",
      "\t      accuracy: 0.9881\n",
      "Epoch 24/50, training loss: -0.20768214762210846, validation loss: 1.471550464630127\n"
     ]
    },
    {
     "data": {
      "application/vnd.jupyter.widget-view+json": {
       "model_id": "2328bc6ee91243248f654765ae4eea67",
       "version_major": 2,
       "version_minor": 0
      },
      "text/plain": [
       "HBox(children=(IntProgress(value=0, description='Loss: ', max=500, style=ProgressStyle(description_width='init…"
      ]
     },
     "metadata": {},
     "output_type": "display_data"
    },
    {
     "name": "stdout",
     "output_type": "stream",
     "text": [
      "\n",
      "\t     precision: 0.9895\n",
      "\t        recall: 0.9893\n",
      "\t            F1: 0.9891\n",
      "\t      accuracy: 0.9894\n",
      "Epoch 25/50, training loss: -0.20774897933006287, validation loss: 1.469216227531433\n"
     ]
    },
    {
     "data": {
      "application/vnd.jupyter.widget-view+json": {
       "model_id": "4805f273b0284bb9bcda497cbcef853f",
       "version_major": 2,
       "version_minor": 0
      },
      "text/plain": [
       "HBox(children=(IntProgress(value=0, description='Loss: ', max=500, style=ProgressStyle(description_width='init…"
      ]
     },
     "metadata": {},
     "output_type": "display_data"
    },
    {
     "name": "stdout",
     "output_type": "stream",
     "text": [
      "\n",
      "\t     precision: 0.9866\n",
      "\t        recall: 0.9865\n",
      "\t            F1: 0.9863\n",
      "\t      accuracy: 0.9865\n",
      "Epoch 26/50, training loss: -0.2077966034412384, validation loss: 1.4724807739257812\n"
     ]
    },
    {
     "data": {
      "application/vnd.jupyter.widget-view+json": {
       "model_id": "6eeb87d35cfe4a3093791c5b611c2c20",
       "version_major": 2,
       "version_minor": 0
      },
      "text/plain": [
       "HBox(children=(IntProgress(value=0, description='Loss: ', max=500, style=ProgressStyle(description_width='init…"
      ]
     },
     "metadata": {},
     "output_type": "display_data"
    },
    {
     "name": "stdout",
     "output_type": "stream",
     "text": [
      "\n",
      "\t     precision: 0.9843\n",
      "\t        recall: 0.9840\n",
      "\t            F1: 0.9838\n",
      "\t      accuracy: 0.9842\n",
      "Epoch 27/50, training loss: -0.20775486528873444, validation loss: 1.4743927717208862\n"
     ]
    },
    {
     "data": {
      "application/vnd.jupyter.widget-view+json": {
       "model_id": "94341c26523a46b0989609b882391e89",
       "version_major": 2,
       "version_minor": 0
      },
      "text/plain": [
       "HBox(children=(IntProgress(value=0, description='Loss: ', max=500, style=ProgressStyle(description_width='init…"
      ]
     },
     "metadata": {},
     "output_type": "display_data"
    },
    {
     "name": "stdout",
     "output_type": "stream",
     "text": [
      "\n",
      "\t     precision: 0.9872\n",
      "\t        recall: 0.9865\n",
      "\t            F1: 0.9865\n",
      "\t      accuracy: 0.9869\n",
      "Epoch 28/50, training loss: -0.20778732001781464, validation loss: 1.4716904163360596\n"
     ]
    },
    {
     "data": {
      "application/vnd.jupyter.widget-view+json": {
       "model_id": "5f916dd21e8840efb7ab4d6fac9441ef",
       "version_major": 2,
       "version_minor": 0
      },
      "text/plain": [
       "HBox(children=(IntProgress(value=0, description='Loss: ', max=500, style=ProgressStyle(description_width='init…"
      ]
     },
     "metadata": {},
     "output_type": "display_data"
    },
    {
     "name": "stdout",
     "output_type": "stream",
     "text": [
      "\n",
      "\t     precision: 0.9878\n",
      "\t        recall: 0.9872\n",
      "\t            F1: 0.9872\n",
      "\t      accuracy: 0.9874\n",
      "Epoch 29/50, training loss: -0.20787987112998962, validation loss: 1.4708082675933838\n"
     ]
    },
    {
     "data": {
      "application/vnd.jupyter.widget-view+json": {
       "model_id": "60a2d024cff74f43bd6155df6290cc48",
       "version_major": 2,
       "version_minor": 0
      },
      "text/plain": [
       "HBox(children=(IntProgress(value=0, description='Loss: ', max=500, style=ProgressStyle(description_width='init…"
      ]
     },
     "metadata": {},
     "output_type": "display_data"
    },
    {
     "name": "stdout",
     "output_type": "stream",
     "text": [
      "\n",
      "\t     precision: 0.9889\n",
      "\t        recall: 0.9887\n",
      "\t            F1: 0.9885\n",
      "\t      accuracy: 0.9888\n",
      "Epoch 30/50, training loss: -0.2077837586402893, validation loss: 1.4699569940567017\n"
     ]
    },
    {
     "data": {
      "application/vnd.jupyter.widget-view+json": {
       "model_id": "b5a91059112b4b3caa4d179a7d2df06d",
       "version_major": 2,
       "version_minor": 0
      },
      "text/plain": [
       "HBox(children=(IntProgress(value=0, description='Loss: ', max=500, style=ProgressStyle(description_width='init…"
      ]
     },
     "metadata": {},
     "output_type": "display_data"
    },
    {
     "name": "stdout",
     "output_type": "stream",
     "text": [
      "\n",
      "\t     precision: 0.9863\n",
      "\t        recall: 0.9857\n",
      "\t            F1: 0.9856\n",
      "\t      accuracy: 0.9859\n",
      "Epoch 31/50, training loss: -0.20794184505939484, validation loss: 1.4720278978347778\n"
     ]
    },
    {
     "data": {
      "application/vnd.jupyter.widget-view+json": {
       "model_id": "382dcc46432c4cfd910ed662ab4b34df",
       "version_major": 2,
       "version_minor": 0
      },
      "text/plain": [
       "HBox(children=(IntProgress(value=0, description='Loss: ', max=500, style=ProgressStyle(description_width='init…"
      ]
     },
     "metadata": {},
     "output_type": "display_data"
    },
    {
     "name": "stdout",
     "output_type": "stream",
     "text": [
      "\n",
      "\t     precision: 0.9901\n",
      "\t        recall: 0.9897\n",
      "\t            F1: 0.9897\n",
      "\t      accuracy: 0.9897\n",
      "Epoch 32/50, training loss: -0.20796172320842743, validation loss: 1.469797968864441\n"
     ]
    },
    {
     "data": {
      "application/vnd.jupyter.widget-view+json": {
       "model_id": "9152fe2560694ae88d0d48e5b172ee39",
       "version_major": 2,
       "version_minor": 0
      },
      "text/plain": [
       "HBox(children=(IntProgress(value=0, description='Loss: ', max=500, style=ProgressStyle(description_width='init…"
      ]
     },
     "metadata": {},
     "output_type": "display_data"
    },
    {
     "name": "stdout",
     "output_type": "stream",
     "text": [
      "\n",
      "\t     precision: 0.9911\n",
      "\t        recall: 0.9906\n",
      "\t            F1: 0.9906\n",
      "\t      accuracy: 0.9909\n",
      "Epoch 33/50, training loss: -0.20793116092681885, validation loss: 1.4688138961791992\n"
     ]
    },
    {
     "data": {
      "application/vnd.jupyter.widget-view+json": {
       "model_id": "bb45942f61e04e62aca9db430da0fa53",
       "version_major": 2,
       "version_minor": 0
      },
      "text/plain": [
       "HBox(children=(IntProgress(value=0, description='Loss: ', max=500, style=ProgressStyle(description_width='init…"
      ]
     },
     "metadata": {},
     "output_type": "display_data"
    },
    {
     "name": "stdout",
     "output_type": "stream",
     "text": [
      "\n",
      "\t     precision: 0.9903\n",
      "\t        recall: 0.9901\n",
      "\t            F1: 0.9900\n",
      "\t      accuracy: 0.9903\n",
      "Epoch 34/50, training loss: -0.20800839364528656, validation loss: 1.468570590019226\n"
     ]
    },
    {
     "data": {
      "application/vnd.jupyter.widget-view+json": {
       "model_id": "166e952ab21d498e9a57cc19d2fc5116",
       "version_major": 2,
       "version_minor": 0
      },
      "text/plain": [
       "HBox(children=(IntProgress(value=0, description='Loss: ', max=500, style=ProgressStyle(description_width='init…"
      ]
     },
     "metadata": {},
     "output_type": "display_data"
    },
    {
     "name": "stdout",
     "output_type": "stream",
     "text": [
      "\n",
      "\t     precision: 0.9863\n",
      "\t        recall: 0.9850\n",
      "\t            F1: 0.9852\n",
      "\t      accuracy: 0.9852\n",
      "Epoch 35/50, training loss: -0.20794446766376495, validation loss: 1.4738492965698242\n"
     ]
    },
    {
     "data": {
      "application/vnd.jupyter.widget-view+json": {
       "model_id": "44584a58b7c44c99b5d8532352594e38",
       "version_major": 2,
       "version_minor": 0
      },
      "text/plain": [
       "HBox(children=(IntProgress(value=0, description='Loss: ', max=500, style=ProgressStyle(description_width='init…"
      ]
     },
     "metadata": {},
     "output_type": "display_data"
    },
    {
     "name": "stdout",
     "output_type": "stream",
     "text": [
      "\n",
      "\t     precision: 0.9869\n",
      "\t        recall: 0.9864\n",
      "\t            F1: 0.9864\n",
      "\t      accuracy: 0.9867\n",
      "Epoch 36/50, training loss: -0.2079487144947052, validation loss: 1.4704288244247437\n"
     ]
    },
    {
     "data": {
      "application/vnd.jupyter.widget-view+json": {
       "model_id": "1d60c2097a384335be5c92933ff69f90",
       "version_major": 2,
       "version_minor": 0
      },
      "text/plain": [
       "HBox(children=(IntProgress(value=0, description='Loss: ', max=500, style=ProgressStyle(description_width='init…"
      ]
     },
     "metadata": {},
     "output_type": "display_data"
    },
    {
     "name": "stdout",
     "output_type": "stream",
     "text": [
      "\n",
      "\t     precision: 0.9902\n",
      "\t        recall: 0.9899\n",
      "\t            F1: 0.9899\n",
      "\t      accuracy: 0.9901\n",
      "Epoch 37/50, training loss: -0.2078731209039688, validation loss: 1.4695504903793335\n"
     ]
    },
    {
     "data": {
      "application/vnd.jupyter.widget-view+json": {
       "model_id": "206c0b224e394edd91de72f430680c45",
       "version_major": 2,
       "version_minor": 0
      },
      "text/plain": [
       "HBox(children=(IntProgress(value=0, description='Loss: ', max=500, style=ProgressStyle(description_width='init…"
      ]
     },
     "metadata": {},
     "output_type": "display_data"
    },
    {
     "name": "stdout",
     "output_type": "stream",
     "text": [
      "\n",
      "\t     precision: 0.9854\n",
      "\t        recall: 0.9849\n",
      "\t            F1: 0.9847\n",
      "\t      accuracy: 0.9850\n",
      "Epoch 38/50, training loss: -0.20784220099449158, validation loss: 1.4735711812973022\n"
     ]
    },
    {
     "data": {
      "application/vnd.jupyter.widget-view+json": {
       "model_id": "e14de7feb5a14fad871c095d5ab306c5",
       "version_major": 2,
       "version_minor": 0
      },
      "text/plain": [
       "HBox(children=(IntProgress(value=0, description='Loss: ', max=500, style=ProgressStyle(description_width='init…"
      ]
     },
     "metadata": {},
     "output_type": "display_data"
    },
    {
     "name": "stdout",
     "output_type": "stream",
     "text": [
      "\n",
      "\t     precision: 0.9897\n",
      "\t        recall: 0.9892\n",
      "\t            F1: 0.9892\n",
      "\t      accuracy: 0.9894\n",
      "Epoch 39/50, training loss: -0.2079111486673355, validation loss: 1.4695788621902466\n"
     ]
    },
    {
     "data": {
      "application/vnd.jupyter.widget-view+json": {
       "model_id": "965fd8ee140847ff958580fa57c49686",
       "version_major": 2,
       "version_minor": 0
      },
      "text/plain": [
       "HBox(children=(IntProgress(value=0, description='Loss: ', max=500, style=ProgressStyle(description_width='init…"
      ]
     },
     "metadata": {},
     "output_type": "display_data"
    },
    {
     "name": "stdout",
     "output_type": "stream",
     "text": [
      "\n",
      "\t     precision: 0.9890\n",
      "\t        recall: 0.9887\n",
      "\t            F1: 0.9886\n",
      "\t      accuracy: 0.9890\n",
      "Epoch 40/50, training loss: -0.20795778930187225, validation loss: 1.470133662223816\n"
     ]
    },
    {
     "data": {
      "application/vnd.jupyter.widget-view+json": {
       "model_id": "83479e263cdf4720a67da9af011b48fb",
       "version_major": 2,
       "version_minor": 0
      },
      "text/plain": [
       "HBox(children=(IntProgress(value=0, description='Loss: ', max=500, style=ProgressStyle(description_width='init…"
      ]
     },
     "metadata": {},
     "output_type": "display_data"
    },
    {
     "name": "stdout",
     "output_type": "stream",
     "text": [
      "\n",
      "\t     precision: 0.9896\n",
      "\t        recall: 0.9891\n",
      "\t            F1: 0.9891\n",
      "\t      accuracy: 0.9893\n",
      "Epoch 41/50, training loss: -0.2079588621854782, validation loss: 1.469710350036621\n"
     ]
    },
    {
     "data": {
      "application/vnd.jupyter.widget-view+json": {
       "model_id": "6acfcafaee38465db777cae5908f4014",
       "version_major": 2,
       "version_minor": 0
      },
      "text/plain": [
       "HBox(children=(IntProgress(value=0, description='Loss: ', max=500, style=ProgressStyle(description_width='init…"
      ]
     },
     "metadata": {},
     "output_type": "display_data"
    },
    {
     "name": "stdout",
     "output_type": "stream",
     "text": [
      "\n",
      "\t     precision: 0.9884\n",
      "\t        recall: 0.9882\n",
      "\t            F1: 0.9879\n",
      "\t      accuracy: 0.9881\n",
      "Epoch 42/50, training loss: -0.2079242616891861, validation loss: 1.4699459075927734\n"
     ]
    },
    {
     "data": {
      "application/vnd.jupyter.widget-view+json": {
       "model_id": "ddbee38d6b5f464c827b063494d2f009",
       "version_major": 2,
       "version_minor": 0
      },
      "text/plain": [
       "HBox(children=(IntProgress(value=0, description='Loss: ', max=500, style=ProgressStyle(description_width='init…"
      ]
     },
     "metadata": {},
     "output_type": "display_data"
    },
    {
     "name": "stdout",
     "output_type": "stream",
     "text": [
      "\n",
      "\t     precision: 0.9917\n",
      "\t        recall: 0.9914\n",
      "\t            F1: 0.9914\n",
      "\t      accuracy: 0.9916\n",
      "Epoch 43/50, training loss: -0.20796701312065125, validation loss: 1.468662977218628\n"
     ]
    },
    {
     "data": {
      "application/vnd.jupyter.widget-view+json": {
       "model_id": "6fe67a6766e34d9ab8cd5af9aca860c4",
       "version_major": 2,
       "version_minor": 0
      },
      "text/plain": [
       "HBox(children=(IntProgress(value=0, description='Loss: ', max=500, style=ProgressStyle(description_width='init…"
      ]
     },
     "metadata": {},
     "output_type": "display_data"
    },
    {
     "name": "stdout",
     "output_type": "stream",
     "text": [
      "\n",
      "\t     precision: 0.9882\n",
      "\t        recall: 0.9878\n",
      "\t            F1: 0.9877\n",
      "\t      accuracy: 0.9880\n",
      "Epoch 44/50, training loss: -0.20789441466331482, validation loss: 1.4713362455368042\n"
     ]
    },
    {
     "data": {
      "application/vnd.jupyter.widget-view+json": {
       "model_id": "fdc2667ce5b3429c9012813184818488",
       "version_major": 2,
       "version_minor": 0
      },
      "text/plain": [
       "HBox(children=(IntProgress(value=0, description='Loss: ', max=500, style=ProgressStyle(description_width='init…"
      ]
     },
     "metadata": {},
     "output_type": "display_data"
    },
    {
     "name": "stdout",
     "output_type": "stream",
     "text": [
      "\n",
      "\t     precision: 0.9891\n",
      "\t        recall: 0.9885\n",
      "\t            F1: 0.9885\n",
      "\t      accuracy: 0.9889\n",
      "Epoch 45/50, training loss: -0.2078891396522522, validation loss: 1.4702624082565308\n"
     ]
    },
    {
     "data": {
      "application/vnd.jupyter.widget-view+json": {
       "model_id": "f84c428a028d44ef86979179a1c7305d",
       "version_major": 2,
       "version_minor": 0
      },
      "text/plain": [
       "HBox(children=(IntProgress(value=0, description='Loss: ', max=500, style=ProgressStyle(description_width='init…"
      ]
     },
     "metadata": {},
     "output_type": "display_data"
    },
    {
     "name": "stdout",
     "output_type": "stream",
     "text": [
      "\n",
      "\t     precision: 0.9893\n",
      "\t        recall: 0.9889\n",
      "\t            F1: 0.9888\n",
      "\t      accuracy: 0.9891\n",
      "Epoch 46/50, training loss: -0.20798487961292267, validation loss: 1.4703155755996704\n"
     ]
    },
    {
     "data": {
      "application/vnd.jupyter.widget-view+json": {
       "model_id": "98f5ca68ba8a45daa90e56c491686abd",
       "version_major": 2,
       "version_minor": 0
      },
      "text/plain": [
       "HBox(children=(IntProgress(value=0, description='Loss: ', max=500, style=ProgressStyle(description_width='init…"
      ]
     },
     "metadata": {},
     "output_type": "display_data"
    },
    {
     "name": "stdout",
     "output_type": "stream",
     "text": [
      "\n",
      "\t     precision: 0.9880\n",
      "\t        recall: 0.9876\n",
      "\t            F1: 0.9874\n",
      "\t      accuracy: 0.9878\n",
      "Epoch 47/50, training loss: -0.20805373787879944, validation loss: 1.4711049795150757\n"
     ]
    },
    {
     "data": {
      "application/vnd.jupyter.widget-view+json": {
       "model_id": "68c542a0a7144b0f9ad95e2232f57f2b",
       "version_major": 2,
       "version_minor": 0
      },
      "text/plain": [
       "HBox(children=(IntProgress(value=0, description='Loss: ', max=500, style=ProgressStyle(description_width='init…"
      ]
     },
     "metadata": {},
     "output_type": "display_data"
    },
    {
     "name": "stdout",
     "output_type": "stream",
     "text": [
      "\n",
      "\t     precision: 0.9893\n",
      "\t        recall: 0.9889\n",
      "\t            F1: 0.9888\n",
      "\t      accuracy: 0.9891\n",
      "Epoch 48/50, training loss: -0.20805293321609497, validation loss: 1.4701489210128784\n"
     ]
    },
    {
     "data": {
      "application/vnd.jupyter.widget-view+json": {
       "model_id": "269c7d5489694e3a8ad6dfc2ae09a3fa",
       "version_major": 2,
       "version_minor": 0
      },
      "text/plain": [
       "HBox(children=(IntProgress(value=0, description='Loss: ', max=500, style=ProgressStyle(description_width='init…"
      ]
     },
     "metadata": {},
     "output_type": "display_data"
    },
    {
     "name": "stdout",
     "output_type": "stream",
     "text": [
      "\n",
      "\t     precision: 0.9890\n",
      "\t        recall: 0.9883\n",
      "\t            F1: 0.9883\n",
      "\t      accuracy: 0.9888\n",
      "Epoch 49/50, training loss: -0.20790784060955048, validation loss: 1.4706581830978394\n"
     ]
    },
    {
     "data": {
      "application/vnd.jupyter.widget-view+json": {
       "model_id": "0901b0f9a80247d8a3f7ae32e094f637",
       "version_major": 2,
       "version_minor": 0
      },
      "text/plain": [
       "HBox(children=(IntProgress(value=0, description='Loss: ', max=500, style=ProgressStyle(description_width='init…"
      ]
     },
     "metadata": {},
     "output_type": "display_data"
    },
    {
     "name": "stdout",
     "output_type": "stream",
     "text": [
      "\n",
      "\t     precision: 0.9900\n",
      "\t        recall: 0.9896\n",
      "\t            F1: 0.9896\n",
      "\t      accuracy: 0.9897\n",
      "Epoch 50/50, training loss: -0.2080264389514923, validation loss: 1.4693527221679688\n"
     ]
    }
   ],
   "source": [
    "train_loader, val_loader, test_loader = get_data_loaders(100, 256, 256, train_size=50000);\n",
    "loss = train(model, optimizer, train_loader, val_loader, epochs=50, alpha=0.1, cuda_avail=cuda_avail, stop_accuracy=1.);\n",
    "np.save('loss_adam_0001.np', np.array(loss));"
   ]
  },
  {
   "cell_type": "markdown",
   "metadata": {},
   "source": [
    "# Visualize losses after training"
   ]
  },
  {
   "cell_type": "code",
   "execution_count": 5,
   "metadata": {},
   "outputs": [
    {
     "data": {
      "image/png": "[encoded data removed]",
      "text/plain": [
       "<Figure size 1224x504 with 1 Axes>"
      ]
     },
     "metadata": {
      "needs_background": "light"
     },
     "output_type": "display_data"
    }
   ],
   "source": [
    "plt.rcParams.update({'font.size': 15})\n",
    "l_sgd_001_0 = np.load('loss_sgd_1e-2_mom0.npy')[:25000];\n",
    "l_sgd_001_09 = np.load('loss_sgd_1e-2_mom09.npy')[:25000];\n",
    "l_sgd_001_09_nest = np.load('loss_sgd_1e-2_mom09_nesterov.npy')[:25000];\n",
    "l_adam_001 = np.load('loss_adam_1e-3.npy')[:25000];\n",
    "l_adagrad_01 = np.load('loss_adagrad_0.1.npy')[:25000];\n",
    "l_adadelta_1 = np.load('loss_adadelta_1.npy')[:25000];\n",
    "l_rmsprop_001 = np.load('loss_rmsprop_001.npy')[:25000];\n",
    "plt.figure(figsize=(17,7))\n",
    "plt.plot(l_sgd_001_0);\n",
    "plt.plot(l_sgd_001_09);\n",
    "plt.plot(l_sgd_001_09_nest);\n",
    "plt.plot(l_adam_001);\n",
    "plt.plot(l_adagrad_01);\n",
    "plt.plot(l_adadelta_1);\n",
    "plt.plot(l_rmsprop_001);\n",
    "plt.legend([\"SGD\",\n",
    "    \"SGD with momentum\",\n",
    "    \"SGD with Nesterov momentum\",\n",
    "    \"Adam\",\n",
    "    \"Adagrad\",\n",
    "    \"Adadelta\",\n",
    "    \"RMSProp\"])\n",
    "plt.xlabel('Number of mini-batch passes');\n",
    "plt.ylabel('Cross-entropy loss');"
   ]
  }
 ],
 "metadata": {
  "kernelspec": {
   "display_name": "Python 3",
   "language": "python",
   "name": "python3"
  },
  "language_info": {
   "codemirror_mode": {
    "name": "ipython",
    "version": 3
   },
   "file_extension": ".py",
   "mimetype": "text/x-python",
   "name": "python",
   "nbconvert_exporter": "python",
   "pygments_lexer": "ipython3",
   "version": "3.6.8"
  }
 },
 "nbformat": 4,
 "nbformat_minor": 2
}
